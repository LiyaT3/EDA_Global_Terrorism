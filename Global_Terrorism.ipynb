{
 "cells": [
  {
   "cell_type": "markdown",
   "id": "96e80188",
   "metadata": {},
   "source": [
    "# TASK - EDA-TERRORISM"
   ]
  },
  {
   "cell_type": "markdown",
   "id": "d0e5d874",
   "metadata": {},
   "source": [
    "## AUTHOR - LIYA T MATHEW"
   ]
  },
  {
   "cell_type": "code",
   "execution_count": 1,
   "id": "1580eb0e",
   "metadata": {},
   "outputs": [],
   "source": [
    "import pandas as pd\n",
    "import numpy as np\n",
    "import seaborn as sns\n",
    "import matplotlib.pyplot as plt\n",
    "from sklearn.impute import SimpleImputer"
   ]
  },
  {
   "cell_type": "code",
   "execution_count": 2,
   "id": "960cb901",
   "metadata": {},
   "outputs": [
    {
     "name": "stderr",
     "output_type": "stream",
     "text": [
      "C:\\Users\\ADMIN\\AppData\\Local\\Temp\\ipykernel_224\\2580272450.py:1: DtypeWarning: Columns (4,6,31,33,61,62,63,76,79,90,92,94,96,114,115,121) have mixed types. Specify dtype option on import or set low_memory=False.\n",
      "  df = pd.read_csv(r'C:\\Users\\ADMIN\\Desktop\\LI DOCS\\SPARK\\terrorism\\globalterrorismdb_0718dist.csv', encoding='latin-1')\n"
     ]
    }
   ],
   "source": [
    "df = pd.read_csv(r'C:\\Users\\ADMIN\\Desktop\\LI DOCS\\SPARK\\terrorism\\globalterrorismdb_0718dist.csv', encoding='latin-1')\n"
   ]
  },
  {
   "cell_type": "code",
   "execution_count": 3,
   "id": "d177534a",
   "metadata": {
    "scrolled": true
   },
   "outputs": [
    {
     "data": {
      "text/html": [
       "<div>\n",
       "<style scoped>\n",
       "    .dataframe tbody tr th:only-of-type {\n",
       "        vertical-align: middle;\n",
       "    }\n",
       "\n",
       "    .dataframe tbody tr th {\n",
       "        vertical-align: top;\n",
       "    }\n",
       "\n",
       "    .dataframe thead th {\n",
       "        text-align: right;\n",
       "    }\n",
       "</style>\n",
       "<table border=\"1\" class=\"dataframe\">\n",
       "  <thead>\n",
       "    <tr style=\"text-align: right;\">\n",
       "      <th></th>\n",
       "      <th>eventid</th>\n",
       "      <th>iyear</th>\n",
       "      <th>imonth</th>\n",
       "      <th>iday</th>\n",
       "      <th>approxdate</th>\n",
       "      <th>extended</th>\n",
       "      <th>resolution</th>\n",
       "      <th>country</th>\n",
       "      <th>country_txt</th>\n",
       "      <th>region</th>\n",
       "      <th>...</th>\n",
       "      <th>addnotes</th>\n",
       "      <th>scite1</th>\n",
       "      <th>scite2</th>\n",
       "      <th>scite3</th>\n",
       "      <th>dbsource</th>\n",
       "      <th>INT_LOG</th>\n",
       "      <th>INT_IDEO</th>\n",
       "      <th>INT_MISC</th>\n",
       "      <th>INT_ANY</th>\n",
       "      <th>related</th>\n",
       "    </tr>\n",
       "  </thead>\n",
       "  <tbody>\n",
       "    <tr>\n",
       "      <th>0</th>\n",
       "      <td>197000000001</td>\n",
       "      <td>1970</td>\n",
       "      <td>7</td>\n",
       "      <td>2</td>\n",
       "      <td>NaN</td>\n",
       "      <td>0</td>\n",
       "      <td>NaN</td>\n",
       "      <td>58</td>\n",
       "      <td>Dominican Republic</td>\n",
       "      <td>2</td>\n",
       "      <td>...</td>\n",
       "      <td>NaN</td>\n",
       "      <td>NaN</td>\n",
       "      <td>NaN</td>\n",
       "      <td>NaN</td>\n",
       "      <td>PGIS</td>\n",
       "      <td>0</td>\n",
       "      <td>0</td>\n",
       "      <td>0</td>\n",
       "      <td>0</td>\n",
       "      <td>NaN</td>\n",
       "    </tr>\n",
       "    <tr>\n",
       "      <th>1</th>\n",
       "      <td>197000000002</td>\n",
       "      <td>1970</td>\n",
       "      <td>0</td>\n",
       "      <td>0</td>\n",
       "      <td>NaN</td>\n",
       "      <td>0</td>\n",
       "      <td>NaN</td>\n",
       "      <td>130</td>\n",
       "      <td>Mexico</td>\n",
       "      <td>1</td>\n",
       "      <td>...</td>\n",
       "      <td>NaN</td>\n",
       "      <td>NaN</td>\n",
       "      <td>NaN</td>\n",
       "      <td>NaN</td>\n",
       "      <td>PGIS</td>\n",
       "      <td>0</td>\n",
       "      <td>1</td>\n",
       "      <td>1</td>\n",
       "      <td>1</td>\n",
       "      <td>NaN</td>\n",
       "    </tr>\n",
       "    <tr>\n",
       "      <th>2</th>\n",
       "      <td>197001000001</td>\n",
       "      <td>1970</td>\n",
       "      <td>1</td>\n",
       "      <td>0</td>\n",
       "      <td>NaN</td>\n",
       "      <td>0</td>\n",
       "      <td>NaN</td>\n",
       "      <td>160</td>\n",
       "      <td>Philippines</td>\n",
       "      <td>5</td>\n",
       "      <td>...</td>\n",
       "      <td>NaN</td>\n",
       "      <td>NaN</td>\n",
       "      <td>NaN</td>\n",
       "      <td>NaN</td>\n",
       "      <td>PGIS</td>\n",
       "      <td>-9</td>\n",
       "      <td>-9</td>\n",
       "      <td>1</td>\n",
       "      <td>1</td>\n",
       "      <td>NaN</td>\n",
       "    </tr>\n",
       "    <tr>\n",
       "      <th>3</th>\n",
       "      <td>197001000002</td>\n",
       "      <td>1970</td>\n",
       "      <td>1</td>\n",
       "      <td>0</td>\n",
       "      <td>NaN</td>\n",
       "      <td>0</td>\n",
       "      <td>NaN</td>\n",
       "      <td>78</td>\n",
       "      <td>Greece</td>\n",
       "      <td>8</td>\n",
       "      <td>...</td>\n",
       "      <td>NaN</td>\n",
       "      <td>NaN</td>\n",
       "      <td>NaN</td>\n",
       "      <td>NaN</td>\n",
       "      <td>PGIS</td>\n",
       "      <td>-9</td>\n",
       "      <td>-9</td>\n",
       "      <td>1</td>\n",
       "      <td>1</td>\n",
       "      <td>NaN</td>\n",
       "    </tr>\n",
       "    <tr>\n",
       "      <th>4</th>\n",
       "      <td>197001000003</td>\n",
       "      <td>1970</td>\n",
       "      <td>1</td>\n",
       "      <td>0</td>\n",
       "      <td>NaN</td>\n",
       "      <td>0</td>\n",
       "      <td>NaN</td>\n",
       "      <td>101</td>\n",
       "      <td>Japan</td>\n",
       "      <td>4</td>\n",
       "      <td>...</td>\n",
       "      <td>NaN</td>\n",
       "      <td>NaN</td>\n",
       "      <td>NaN</td>\n",
       "      <td>NaN</td>\n",
       "      <td>PGIS</td>\n",
       "      <td>-9</td>\n",
       "      <td>-9</td>\n",
       "      <td>1</td>\n",
       "      <td>1</td>\n",
       "      <td>NaN</td>\n",
       "    </tr>\n",
       "  </tbody>\n",
       "</table>\n",
       "<p>5 rows × 135 columns</p>\n",
       "</div>"
      ],
      "text/plain": [
       "        eventid  iyear  imonth  iday approxdate  extended resolution  country  \\\n",
       "0  197000000001   1970       7     2        NaN         0        NaN       58   \n",
       "1  197000000002   1970       0     0        NaN         0        NaN      130   \n",
       "2  197001000001   1970       1     0        NaN         0        NaN      160   \n",
       "3  197001000002   1970       1     0        NaN         0        NaN       78   \n",
       "4  197001000003   1970       1     0        NaN         0        NaN      101   \n",
       "\n",
       "          country_txt  region  ... addnotes scite1 scite2  scite3  dbsource  \\\n",
       "0  Dominican Republic       2  ...      NaN    NaN    NaN     NaN      PGIS   \n",
       "1              Mexico       1  ...      NaN    NaN    NaN     NaN      PGIS   \n",
       "2         Philippines       5  ...      NaN    NaN    NaN     NaN      PGIS   \n",
       "3              Greece       8  ...      NaN    NaN    NaN     NaN      PGIS   \n",
       "4               Japan       4  ...      NaN    NaN    NaN     NaN      PGIS   \n",
       "\n",
       "   INT_LOG  INT_IDEO INT_MISC INT_ANY  related  \n",
       "0        0         0        0       0      NaN  \n",
       "1        0         1        1       1      NaN  \n",
       "2       -9        -9        1       1      NaN  \n",
       "3       -9        -9        1       1      NaN  \n",
       "4       -9        -9        1       1      NaN  \n",
       "\n",
       "[5 rows x 135 columns]"
      ]
     },
     "execution_count": 3,
     "metadata": {},
     "output_type": "execute_result"
    }
   ],
   "source": [
    "df.head(5)"
   ]
  },
  {
   "cell_type": "code",
   "execution_count": 4,
   "id": "662f29e2",
   "metadata": {},
   "outputs": [
    {
     "data": {
      "text/plain": [
       "(181691, 135)"
      ]
     },
     "execution_count": 4,
     "metadata": {},
     "output_type": "execute_result"
    }
   ],
   "source": [
    "df.shape"
   ]
  },
  {
   "cell_type": "code",
   "execution_count": 5,
   "id": "5fb1418d",
   "metadata": {},
   "outputs": [
    {
     "data": {
      "text/plain": [
       "['eventid',\n",
       " 'iyear',\n",
       " 'imonth',\n",
       " 'iday',\n",
       " 'approxdate',\n",
       " 'extended',\n",
       " 'resolution',\n",
       " 'country',\n",
       " 'country_txt',\n",
       " 'region',\n",
       " 'region_txt',\n",
       " 'provstate',\n",
       " 'city',\n",
       " 'latitude',\n",
       " 'longitude',\n",
       " 'specificity',\n",
       " 'vicinity',\n",
       " 'location',\n",
       " 'summary',\n",
       " 'crit1',\n",
       " 'crit2',\n",
       " 'crit3',\n",
       " 'doubtterr',\n",
       " 'alternative',\n",
       " 'alternative_txt',\n",
       " 'multiple',\n",
       " 'success',\n",
       " 'suicide',\n",
       " 'attacktype1',\n",
       " 'attacktype1_txt',\n",
       " 'attacktype2',\n",
       " 'attacktype2_txt',\n",
       " 'attacktype3',\n",
       " 'attacktype3_txt',\n",
       " 'targtype1',\n",
       " 'targtype1_txt',\n",
       " 'targsubtype1',\n",
       " 'targsubtype1_txt',\n",
       " 'corp1',\n",
       " 'target1',\n",
       " 'natlty1',\n",
       " 'natlty1_txt',\n",
       " 'targtype2',\n",
       " 'targtype2_txt',\n",
       " 'targsubtype2',\n",
       " 'targsubtype2_txt',\n",
       " 'corp2',\n",
       " 'target2',\n",
       " 'natlty2',\n",
       " 'natlty2_txt',\n",
       " 'targtype3',\n",
       " 'targtype3_txt',\n",
       " 'targsubtype3',\n",
       " 'targsubtype3_txt',\n",
       " 'corp3',\n",
       " 'target3',\n",
       " 'natlty3',\n",
       " 'natlty3_txt',\n",
       " 'gname',\n",
       " 'gsubname',\n",
       " 'gname2',\n",
       " 'gsubname2',\n",
       " 'gname3',\n",
       " 'gsubname3',\n",
       " 'motive',\n",
       " 'guncertain1',\n",
       " 'guncertain2',\n",
       " 'guncertain3',\n",
       " 'individual',\n",
       " 'nperps',\n",
       " 'nperpcap',\n",
       " 'claimed',\n",
       " 'claimmode',\n",
       " 'claimmode_txt',\n",
       " 'claim2',\n",
       " 'claimmode2',\n",
       " 'claimmode2_txt',\n",
       " 'claim3',\n",
       " 'claimmode3',\n",
       " 'claimmode3_txt',\n",
       " 'compclaim',\n",
       " 'weaptype1',\n",
       " 'weaptype1_txt',\n",
       " 'weapsubtype1',\n",
       " 'weapsubtype1_txt',\n",
       " 'weaptype2',\n",
       " 'weaptype2_txt',\n",
       " 'weapsubtype2',\n",
       " 'weapsubtype2_txt',\n",
       " 'weaptype3',\n",
       " 'weaptype3_txt',\n",
       " 'weapsubtype3',\n",
       " 'weapsubtype3_txt',\n",
       " 'weaptype4',\n",
       " 'weaptype4_txt',\n",
       " 'weapsubtype4',\n",
       " 'weapsubtype4_txt',\n",
       " 'weapdetail',\n",
       " 'nkill',\n",
       " 'nkillus',\n",
       " 'nkillter',\n",
       " 'nwound',\n",
       " 'nwoundus',\n",
       " 'nwoundte',\n",
       " 'property',\n",
       " 'propextent',\n",
       " 'propextent_txt',\n",
       " 'propvalue',\n",
       " 'propcomment',\n",
       " 'ishostkid',\n",
       " 'nhostkid',\n",
       " 'nhostkidus',\n",
       " 'nhours',\n",
       " 'ndays',\n",
       " 'divert',\n",
       " 'kidhijcountry',\n",
       " 'ransom',\n",
       " 'ransomamt',\n",
       " 'ransomamtus',\n",
       " 'ransompaid',\n",
       " 'ransompaidus',\n",
       " 'ransomnote',\n",
       " 'hostkidoutcome',\n",
       " 'hostkidoutcome_txt',\n",
       " 'nreleased',\n",
       " 'addnotes',\n",
       " 'scite1',\n",
       " 'scite2',\n",
       " 'scite3',\n",
       " 'dbsource',\n",
       " 'INT_LOG',\n",
       " 'INT_IDEO',\n",
       " 'INT_MISC',\n",
       " 'INT_ANY',\n",
       " 'related']"
      ]
     },
     "execution_count": 5,
     "metadata": {},
     "output_type": "execute_result"
    }
   ],
   "source": [
    "col_list=df.columns.tolist()\n",
    "col_list"
   ]
  },
  {
   "cell_type": "code",
   "execution_count": 6,
   "id": "916b7f36",
   "metadata": {},
   "outputs": [],
   "source": [
    "cols_to_keep = [\n",
    "    'iyear', 'imonth', 'iday', 'country', 'country_txt', 'region', 'city', 'latitude',\n",
    "    'longitude', 'attacktype1', 'attacktype1_txt', 'targtype1', 'targsubtype1', 'targtype1_txt', 'targsubtype1_txt',\n",
    "    'gname', 'nkill', 'nwound', 'weaptype1', 'weaptype1_txt', 'propextent', 'propextent_txt',\n",
    "    'motive', 'summary', 'natlty1', 'natlty1_txt'\n",
    "]\n",
    "df=df[cols_to_keep]"
   ]
  },
  {
   "cell_type": "code",
   "execution_count": 7,
   "id": "fe4cf5a6",
   "metadata": {},
   "outputs": [
    {
     "data": {
      "text/plain": [
       "(181691, 26)"
      ]
     },
     "execution_count": 7,
     "metadata": {},
     "output_type": "execute_result"
    }
   ],
   "source": [
    "df.shape"
   ]
  },
  {
   "cell_type": "code",
   "execution_count": 8,
   "id": "c5b6db64",
   "metadata": {},
   "outputs": [
    {
     "data": {
      "text/plain": [
       "iyear                 int64\n",
       "imonth                int64\n",
       "iday                  int64\n",
       "country               int64\n",
       "country_txt          object\n",
       "region                int64\n",
       "city                 object\n",
       "latitude            float64\n",
       "longitude           float64\n",
       "attacktype1           int64\n",
       "attacktype1_txt      object\n",
       "targtype1             int64\n",
       "targsubtype1        float64\n",
       "targtype1_txt        object\n",
       "targsubtype1_txt     object\n",
       "gname                object\n",
       "nkill               float64\n",
       "nwound              float64\n",
       "weaptype1             int64\n",
       "weaptype1_txt        object\n",
       "propextent          float64\n",
       "propextent_txt       object\n",
       "motive               object\n",
       "summary              object\n",
       "natlty1             float64\n",
       "natlty1_txt          object\n",
       "dtype: object"
      ]
     },
     "execution_count": 8,
     "metadata": {},
     "output_type": "execute_result"
    }
   ],
   "source": [
    "df.dtypes"
   ]
  },
  {
   "cell_type": "code",
   "execution_count": 9,
   "id": "fc5d5478",
   "metadata": {},
   "outputs": [
    {
     "data": {
      "text/plain": [
       "iyear                    0\n",
       "imonth                   0\n",
       "iday                     0\n",
       "country                  0\n",
       "country_txt              0\n",
       "region                   0\n",
       "city                   435\n",
       "latitude              4556\n",
       "longitude             4557\n",
       "attacktype1              0\n",
       "attacktype1_txt          0\n",
       "targtype1                0\n",
       "targsubtype1         10373\n",
       "targtype1_txt            0\n",
       "targsubtype1_txt     10373\n",
       "gname                    0\n",
       "nkill                10313\n",
       "nwound               16311\n",
       "weaptype1                0\n",
       "weaptype1_txt            0\n",
       "propextent          117626\n",
       "propextent_txt      117626\n",
       "motive              131130\n",
       "summary              66129\n",
       "natlty1               1559\n",
       "natlty1_txt           1559\n",
       "dtype: int64"
      ]
     },
     "execution_count": 9,
     "metadata": {},
     "output_type": "execute_result"
    }
   ],
   "source": [
    "df.isna().sum()"
   ]
  },
  {
   "cell_type": "code",
   "execution_count": 10,
   "id": "5157ee7d",
   "metadata": {},
   "outputs": [
    {
     "name": "stdout",
     "output_type": "stream",
     "text": [
      "[nan 'Minor (likely < $1 million)'\n",
      " 'Major (likely >= $1 million but < $1 billion)' 'Unknown'\n",
      " 'Catastrophic (likely >= $1 billion)']\n",
      "215\n"
     ]
    }
   ],
   "source": [
    "unq=df.propextent_txt.unique()\n",
    "print(unq)\n",
    "unq2=df.natlty1_txt.nunique()\n",
    "print(unq2)"
   ]
  },
  {
   "cell_type": "code",
   "execution_count": 11,
   "id": "85ef30e9",
   "metadata": {},
   "outputs": [],
   "source": [
    "#Since for some columns,it doesnt make sense to use statistical imputation,so going to drop those rows with null values\n",
    "cols = ['city', 'nkill', 'nwound', 'propextent', 'propextent_txt', 'motive', 'summary']\n",
    "df=df.dropna(subset=cols)"
   ]
  },
  {
   "cell_type": "code",
   "execution_count": 12,
   "id": "eeb19d50",
   "metadata": {},
   "outputs": [],
   "source": [
    "#Going with statistical imputation to avoid significant data loss\n",
    "#from sklearn.impute import SimpleImputer\n",
    "median_imp=SimpleImputer(missing_values=np.nan,strategy='median')\n",
    "df['latitude']=median_imp.fit_transform(df[['latitude']])\n",
    "df['longitude']=median_imp.fit_transform(df[['longitude']])\n",
    "mode_imp=SimpleImputer(missing_values=np.nan,strategy='most_frequent')\n",
    "df['natlty1']=mode_imp.fit_transform(df[['natlty1']])\n",
    "#Since natlty1_txt is categorical,using Unknown to fill the null values\n",
    "df['natlty1_txt'].fillna('Unknown',inplace=True)"
   ]
  },
  {
   "cell_type": "code",
   "execution_count": 13,
   "id": "41ded4f6",
   "metadata": {},
   "outputs": [
    {
     "name": "stderr",
     "output_type": "stream",
     "text": [
      "C:\\Users\\ADMIN\\AppData\\Local\\Temp\\ipykernel_224\\2207869415.py:2: FutureWarning: Series.fillna with 'method' is deprecated and will raise in a future version. Use obj.ffill() or obj.bfill() instead.\n",
      "  df['targsubtype1'].fillna(method='ffill', inplace=True)\n",
      "C:\\Users\\ADMIN\\AppData\\Local\\Temp\\ipykernel_224\\2207869415.py:3: FutureWarning: Series.fillna with 'method' is deprecated and will raise in a future version. Use obj.ffill() or obj.bfill() instead.\n",
      "  df['targsubtype1_txt'].fillna(method='ffill', inplace=True)\n"
     ]
    }
   ],
   "source": [
    "#Gong with forward filling as they represent the subtype information for the target subtype\n",
    "df['targsubtype1'].fillna(method='ffill', inplace=True)\n",
    "df['targsubtype1_txt'].fillna(method='ffill', inplace=True)"
   ]
  },
  {
   "cell_type": "code",
   "execution_count": 14,
   "id": "81e9b1f1",
   "metadata": {},
   "outputs": [
    {
     "data": {
      "text/plain": [
       "iyear               0\n",
       "imonth              0\n",
       "iday                0\n",
       "country             0\n",
       "country_txt         0\n",
       "region              0\n",
       "city                0\n",
       "latitude            0\n",
       "longitude           0\n",
       "attacktype1         0\n",
       "attacktype1_txt     0\n",
       "targtype1           0\n",
       "targsubtype1        0\n",
       "targtype1_txt       0\n",
       "targsubtype1_txt    0\n",
       "gname               0\n",
       "nkill               0\n",
       "nwound              0\n",
       "weaptype1           0\n",
       "weaptype1_txt       0\n",
       "propextent          0\n",
       "propextent_txt      0\n",
       "motive              0\n",
       "summary             0\n",
       "natlty1             0\n",
       "natlty1_txt         0\n",
       "dtype: int64"
      ]
     },
     "execution_count": 14,
     "metadata": {},
     "output_type": "execute_result"
    }
   ],
   "source": [
    "df.isna().sum()"
   ]
  },
  {
   "cell_type": "code",
   "execution_count": 15,
   "id": "fa3ac56f",
   "metadata": {},
   "outputs": [
    {
     "data": {
      "text/plain": [
       "466"
      ]
     },
     "execution_count": 15,
     "metadata": {},
     "output_type": "execute_result"
    }
   ],
   "source": [
    "#Checking for duplicate rows\n",
    "duplicates=df.duplicated()\n",
    "sum(duplicates)"
   ]
  },
  {
   "cell_type": "code",
   "execution_count": 19,
   "id": "e7ae34cb",
   "metadata": {},
   "outputs": [],
   "source": [
    "df=df.drop_duplicates()"
   ]
  },
  {
   "cell_type": "code",
   "execution_count": 21,
   "id": "0fbfb387",
   "metadata": {},
   "outputs": [
    {
     "data": {
      "text/plain": [
       "0"
      ]
     },
     "execution_count": 21,
     "metadata": {},
     "output_type": "execute_result"
    }
   ],
   "source": [
    "duplicates=df.duplicated()\n",
    "sum(duplicates)"
   ]
  },
  {
   "cell_type": "code",
   "execution_count": 22,
   "id": "c69bfad6",
   "metadata": {},
   "outputs": [
    {
     "name": "stdout",
     "output_type": "stream",
     "text": [
      "iyear              48.900816\n",
      "imonth             11.478570\n",
      "iday               77.982909\n",
      "country         10657.911809\n",
      "region              6.936386\n",
      "latitude          201.708257\n",
      "longitude        2485.661450\n",
      "attacktype1         3.054992\n",
      "targtype1          45.667703\n",
      "targsubtype1     1071.991404\n",
      "nkill             304.802774\n",
      "nwound           6965.350865\n",
      "weaptype1           2.139108\n",
      "propextent          0.262951\n",
      "natlty1          8938.739008\n",
      "dtype: float64\n"
     ]
    }
   ],
   "source": [
    "#Checking for variance\n",
    "numeric_columns = df.select_dtypes(include=['int64', 'float64'])\n",
    "var_col = numeric_columns.var()\n",
    "print(var_col)"
   ]
  },
  {
   "cell_type": "code",
   "execution_count": 23,
   "id": "ffddeb0e",
   "metadata": {},
   "outputs": [],
   "source": [
    "#Removing propextent a sthe variation is too less\n",
    "df=df.drop(columns='propextent')"
   ]
  },
  {
   "cell_type": "code",
   "execution_count": 24,
   "id": "e3d0b46f",
   "metadata": {},
   "outputs": [
    {
     "data": {
      "text/plain": [
       "(23390, 25)"
      ]
     },
     "execution_count": 24,
     "metadata": {},
     "output_type": "execute_result"
    }
   ],
   "source": [
    "df.shape"
   ]
  },
  {
   "cell_type": "code",
   "execution_count": 25,
   "id": "31518f29",
   "metadata": {},
   "outputs": [
    {
     "data": {
      "image/png": "[encoded data removed]",
      "text/plain": [
       "<Figure size 640x480 with 1 Axes>"
      ]
     },
     "metadata": {},
     "output_type": "display_data"
    },
    {
     "data": {
      "image/png": "[encoded data removed]",
      "text/plain": [
       "<Figure size 640x480 with 1 Axes>"
      ]
     },
     "metadata": {},
     "output_type": "display_data"
    }
   ],
   "source": [
    "#Outlier Analysis\n",
    "sns.boxplot(data=df, y='nkill')\n",
    "plt.title('Boxplot for nkill')\n",
    "plt.show()\n",
    "\n",
    "sns.boxplot(data=df, y='nwound')\n",
    "plt.title('Boxplot for nwound')\n",
    "plt.show()"
   ]
  },
  {
   "cell_type": "markdown",
   "id": "94f56718",
   "metadata": {},
   "source": [
    "#Since these outliers are valid,going to retain them"
   ]
  },
  {
   "cell_type": "code",
   "execution_count": 26,
   "id": "a63b5aa5",
   "metadata": {},
   "outputs": [
    {
     "data": {
      "text/plain": [
       "Index(['iyear', 'imonth', 'iday', 'country', 'country_txt', 'region', 'city',\n",
       "       'latitude', 'longitude', 'attacktype1', 'attacktype1_txt', 'targtype1',\n",
       "       'targsubtype1', 'targtype1_txt', 'targsubtype1_txt', 'gname', 'nkill',\n",
       "       'nwound', 'weaptype1', 'weaptype1_txt', 'propextent_txt', 'motive',\n",
       "       'summary', 'natlty1', 'natlty1_txt'],\n",
       "      dtype='object')"
      ]
     },
     "execution_count": 26,
     "metadata": {},
     "output_type": "execute_result"
    }
   ],
   "source": [
    "df.columns"
   ]
  },
  {
   "cell_type": "code",
   "execution_count": 27,
   "id": "8ec696c5",
   "metadata": {},
   "outputs": [],
   "source": [
    "#Creating a new column casualities\n",
    "df['casualities']=df['nkill']+df['nwound']"
   ]
  },
  {
   "cell_type": "code",
   "execution_count": 28,
   "id": "014753a8",
   "metadata": {},
   "outputs": [
    {
     "data": {
      "text/plain": [
       "271"
      ]
     },
     "execution_count": 28,
     "metadata": {},
     "output_type": "execute_result"
    }
   ],
   "source": [
    "#No of unique values in casualities\n",
    "df.casualities.nunique()"
   ]
  },
  {
   "cell_type": "code",
   "execution_count": 29,
   "id": "72bb2dab",
   "metadata": {},
   "outputs": [
    {
     "name": "stdout",
     "output_type": "stream",
     "text": [
      "9574.0\n"
     ]
    }
   ],
   "source": [
    "range_cas=max(df.casualities)-min(df.casualities)\n",
    "print(range_cas)"
   ]
  },
  {
   "cell_type": "code",
   "execution_count": 30,
   "id": "af7e5907",
   "metadata": {},
   "outputs": [],
   "source": [
    "#Discretization\n",
    "bin=[-9574,0,100,1000,10000]\n",
    "label=['No Casualities','Low Casualities','Moderate Casualities','High Casualities']\n",
    "df['Severity']=pd.cut(df['casualities'],bins=bin,labels=label)"
   ]
  },
  {
   "cell_type": "code",
   "execution_count": 31,
   "id": "431b9dcb",
   "metadata": {},
   "outputs": [
    {
     "name": "stdout",
     "output_type": "stream",
     "text": [
      " Start Date-1970\n",
      " End Date-2017\n"
     ]
    }
   ],
   "source": [
    "#Range of the dates available in this daatset\n",
    "start_date=df['iyear'].min()\n",
    "print(f' Start Date-{start_date}')\n",
    "end_date=df['iyear'].max()\n",
    "print(f' End Date-{end_date}')"
   ]
  },
  {
   "cell_type": "code",
   "execution_count": 32,
   "id": "ddd22d00",
   "metadata": {},
   "outputs": [
    {
     "data": {
      "text/plain": [
       "(23390, 27)"
      ]
     },
     "execution_count": 32,
     "metadata": {},
     "output_type": "execute_result"
    }
   ],
   "source": [
    "df.shape"
   ]
  },
  {
   "cell_type": "code",
   "execution_count": 33,
   "id": "f68e76e1",
   "metadata": {},
   "outputs": [],
   "source": [
    "df.to_csv('terrorism_cleaned_data.csv', index=False)"
   ]
  },
  {
   "cell_type": "code",
   "execution_count": 40,
   "id": "0178d25a",
   "metadata": {},
   "outputs": [
    {
     "data": {
      "application/vnd.jupyter.widget-view+json": {
       "model_id": "bb8072f427fa407e996037008e149723",
       "version_major": 2,
       "version_minor": 0
      },
      "text/plain": [
       "                                             |          | [  0%]   00:00 -> (? left)"
      ]
     },
     "metadata": {},
     "output_type": "display_data"
    },
    {
     "name": "stderr",
     "output_type": "stream",
     "text": [
      "D:\\anac\\envs\\pharma\\Lib\\site-packages\\sweetviz\\from_profiling_pandas.py:65: FutureWarning: is_categorical_dtype is deprecated and will be removed in a future version. Use isinstance(dtype, CategoricalDtype) instead\n",
      "  if pd.api.types.is_categorical_dtype(keys):\n",
      "D:\\anac\\envs\\pharma\\Lib\\site-packages\\sweetviz\\from_profiling_pandas.py:65: FutureWarning: is_categorical_dtype is deprecated and will be removed in a future version. Use isinstance(dtype, CategoricalDtype) instead\n",
      "  if pd.api.types.is_categorical_dtype(keys):\n",
      "D:\\anac\\envs\\pharma\\Lib\\site-packages\\sweetviz\\from_profiling_pandas.py:65: FutureWarning: is_categorical_dtype is deprecated and will be removed in a future version. Use isinstance(dtype, CategoricalDtype) instead\n",
      "  if pd.api.types.is_categorical_dtype(keys):\n",
      "D:\\anac\\envs\\pharma\\Lib\\site-packages\\sweetviz\\from_profiling_pandas.py:65: FutureWarning: is_categorical_dtype is deprecated and will be removed in a future version. Use isinstance(dtype, CategoricalDtype) instead\n",
      "  if pd.api.types.is_categorical_dtype(keys):\n",
      "D:\\anac\\envs\\pharma\\Lib\\site-packages\\sweetviz\\from_profiling_pandas.py:65: FutureWarning: is_categorical_dtype is deprecated and will be removed in a future version. Use isinstance(dtype, CategoricalDtype) instead\n",
      "  if pd.api.types.is_categorical_dtype(keys):\n",
      "D:\\anac\\envs\\pharma\\Lib\\site-packages\\sweetviz\\from_profiling_pandas.py:65: FutureWarning: is_categorical_dtype is deprecated and will be removed in a future version. Use isinstance(dtype, CategoricalDtype) instead\n",
      "  if pd.api.types.is_categorical_dtype(keys):\n",
      "D:\\anac\\envs\\pharma\\Lib\\site-packages\\sweetviz\\from_profiling_pandas.py:65: FutureWarning: is_categorical_dtype is deprecated and will be removed in a future version. Use isinstance(dtype, CategoricalDtype) instead\n",
      "  if pd.api.types.is_categorical_dtype(keys):\n",
      "D:\\anac\\envs\\pharma\\Lib\\site-packages\\sweetviz\\from_profiling_pandas.py:65: FutureWarning: is_categorical_dtype is deprecated and will be removed in a future version. Use isinstance(dtype, CategoricalDtype) instead\n",
      "  if pd.api.types.is_categorical_dtype(keys):\n",
      "D:\\anac\\envs\\pharma\\Lib\\site-packages\\sweetviz\\from_profiling_pandas.py:65: FutureWarning: is_categorical_dtype is deprecated and will be removed in a future version. Use isinstance(dtype, CategoricalDtype) instead\n",
      "  if pd.api.types.is_categorical_dtype(keys):\n",
      "D:\\anac\\envs\\pharma\\Lib\\site-packages\\sweetviz\\from_profiling_pandas.py:65: FutureWarning: is_categorical_dtype is deprecated and will be removed in a future version. Use isinstance(dtype, CategoricalDtype) instead\n",
      "  if pd.api.types.is_categorical_dtype(keys):\n",
      "D:\\anac\\envs\\pharma\\Lib\\site-packages\\sweetviz\\from_profiling_pandas.py:65: FutureWarning: is_categorical_dtype is deprecated and will be removed in a future version. Use isinstance(dtype, CategoricalDtype) instead\n",
      "  if pd.api.types.is_categorical_dtype(keys):\n",
      "D:\\anac\\envs\\pharma\\Lib\\site-packages\\sweetviz\\from_profiling_pandas.py:65: FutureWarning: is_categorical_dtype is deprecated and will be removed in a future version. Use isinstance(dtype, CategoricalDtype) instead\n",
      "  if pd.api.types.is_categorical_dtype(keys):\n",
      "D:\\anac\\envs\\pharma\\Lib\\site-packages\\sweetviz\\from_profiling_pandas.py:65: FutureWarning: is_categorical_dtype is deprecated and will be removed in a future version. Use isinstance(dtype, CategoricalDtype) instead\n",
      "  if pd.api.types.is_categorical_dtype(keys):\n",
      "D:\\anac\\envs\\pharma\\Lib\\site-packages\\sweetviz\\from_profiling_pandas.py:65: FutureWarning: is_categorical_dtype is deprecated and will be removed in a future version. Use isinstance(dtype, CategoricalDtype) instead\n",
      "  if pd.api.types.is_categorical_dtype(keys):\n"
     ]
    },
    {
     "name": "stdout",
     "output_type": "stream",
     "text": [
      "Report Sweetviz_Terrorism_AutoEDA.html was generated! NOTEBOOK/COLAB USERS: the web browser MAY not pop up, regardless, the report IS saved in your notebook/colab files.\n"
     ]
    }
   ],
   "source": [
    "#Auto EDA\n",
    "import sweetviz as sv\n",
    "s=sv.analyze(df)\n",
    "s.show_html('Sweetviz_Terrorism_AutoEDA.html')"
   ]
  }
 ],
 "metadata": {
  "kernelspec": {
   "display_name": "Python 3 (ipykernel)",
   "language": "python",
   "name": "python3"
  },
  "language_info": {
   "codemirror_mode": {
    "name": "ipython",
    "version": 3
   },
   "file_extension": ".py",
   "mimetype": "text/x-python",
   "name": "python",
   "nbconvert_exporter": "python",
   "pygments_lexer": "ipython3",
   "version": "3.11.5"
  }
 },
 "nbformat": 4,
 "nbformat_minor": 5
}
